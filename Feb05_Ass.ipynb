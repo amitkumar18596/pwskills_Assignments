{
 "cells": [
  {
   "cell_type": "markdown",
   "id": "e8640c4a-175c-40eb-a7e1-38eb751febee",
   "metadata": {},
   "source": [
    "# Q1. Explain Class and Object with respect to Object-Oriented Programming. Give a suitable example."
   ]
  },
  {
   "cell_type": "markdown",
   "id": "d3281808-ccfc-47e9-8623-b422d887dd73",
   "metadata": {},
   "source": [
    "### A class is considered as a blueprint of objects . An object is simply a collection of data (variables) and methods (functions)"
   ]
  },
  {
   "cell_type": "code",
   "execution_count": 1,
   "id": "89bfa586-bbaf-4812-a1ac-214582757dd6",
   "metadata": {},
   "outputs": [],
   "source": [
    "class Bike:\n",
    "    name = \"\"\n",
    "    gear = 0"
   ]
  },
  {
   "cell_type": "code",
   "execution_count": 2,
   "id": "3d929bd3-b3be-43b2-a58e-6917ed6f47c7",
   "metadata": {},
   "outputs": [],
   "source": [
    "bike = Bike()"
   ]
  },
  {
   "cell_type": "code",
   "execution_count": 3,
   "id": "f5f86f80-b795-423f-8001-181df0e71057",
   "metadata": {},
   "outputs": [],
   "source": [
    "bike.name = \"Harley Davidson\"\n",
    "bike.gear = 2"
   ]
  },
  {
   "cell_type": "code",
   "execution_count": 4,
   "id": "8a1992b9-914a-4127-bb4b-685510519336",
   "metadata": {},
   "outputs": [
    {
     "name": "stdout",
     "output_type": "stream",
     "text": [
      "Harley Davidson\n"
     ]
    }
   ],
   "source": [
    "print(bike.name)"
   ]
  },
  {
   "cell_type": "code",
   "execution_count": 5,
   "id": "109951be-034e-49ea-9797-15ad34f34de3",
   "metadata": {},
   "outputs": [
    {
     "name": "stdout",
     "output_type": "stream",
     "text": [
      "2\n"
     ]
    }
   ],
   "source": [
    "print(bike.gear)"
   ]
  },
  {
   "cell_type": "markdown",
   "id": "b201ef2f-1d47-4aa5-8796-91b595e7f6f0",
   "metadata": {},
   "source": [
    "# Q2. Name the four pillars of OOPs."
   ]
  },
  {
   "cell_type": "markdown",
   "id": "310599cc-f775-40ec-874c-982d0a20f321",
   "metadata": {},
   "source": [
    "### Abstraction.\n",
    "### Encapsulation.\n",
    "### Inheritance.\n",
    "### Polymorphism."
   ]
  },
  {
   "cell_type": "markdown",
   "id": "cc50612d-0548-4e77-8292-4f14ad5e01a9",
   "metadata": {},
   "source": [
    "# Q3. Explain why the __init__() function is used. Give a suitable example."
   ]
  },
  {
   "cell_type": "markdown",
   "id": "7afcd2c6-f77c-4035-beff-d74628460f32",
   "metadata": {},
   "source": [
    "### The Default __init__ Constructor in python are used to initializing the object’s state. constructor also contains a collection of statements that are executed at the time of Object creation. It is run as soon as an object of a class is instantiated. "
   ]
  },
  {
   "cell_type": "code",
   "execution_count": 7,
   "id": "d77edce9-7e01-49e8-b188-84f5a7337f31",
   "metadata": {},
   "outputs": [
    {
     "name": "stdout",
     "output_type": "stream",
     "text": [
      "Hello, my name is Amit\n"
     ]
    }
   ],
   "source": [
    "class Person:\n",
    " \n",
    "    def __init__(self, name):\n",
    "        self.name = name\n",
    " \n",
    "    def printHi(self):\n",
    "        print('Hello, my name is', self.name)\n",
    " \n",
    " \n",
    "p1 = Person('Amit')\n",
    "p1.printHi()"
   ]
  },
  {
   "cell_type": "markdown",
   "id": "bb92b12c-d8cc-4d45-8520-2943dbfbcdbc",
   "metadata": {},
   "source": [
    "# Q4. Why self is used in OOPs?"
   ]
  },
  {
   "cell_type": "markdown",
   "id": "0b2c8b79-0fe7-458f-94fe-f6a8023ab8f1",
   "metadata": {},
   "source": [
    "### The self variable is used to represent the instance of the class which is often used in object-oriented programming. It works as a reference to the object. Python uses the self parameter to refer to instance attributes and methods of the class"
   ]
  },
  {
   "cell_type": "markdown",
   "id": "1bb80ded-d824-4716-9596-757c8adda3da",
   "metadata": {},
   "source": [
    "# Q5. What is inheritance? Give an example for each type of inheritance."
   ]
  },
  {
   "cell_type": "markdown",
   "id": "8cede929-84f4-4294-9b88-69e802096585",
   "metadata": {},
   "source": [
    "### Inheritance allows us to define a class that inherits all the methods and properties from another class."
   ]
  },
  {
   "cell_type": "markdown",
   "id": "08b706c4-0eea-408e-912e-8a00b64d8c18",
   "metadata": {},
   "source": [
    "### 1. Single Inheritance : When one child class inherits only one parent class, it is called single inheritance. "
   ]
  },
  {
   "cell_type": "code",
   "execution_count": 8,
   "id": "77d1bf04-9bc4-4c47-a244-abea34966649",
   "metadata": {},
   "outputs": [
    {
     "name": "stdout",
     "output_type": "stream",
     "text": [
      "Amit is a Professor\n"
     ]
    }
   ],
   "source": [
    "class Person:\n",
    "    def __init__(self, name, age):\n",
    "        self.name = name\n",
    "        self.age = age\n",
    "class Professor(Person):\n",
    "    def isProfessor(self):\n",
    "        return f\"{self.name} is a Professor\"\n",
    "sir = Professor(\"Amit\", 30)\n",
    "print(sir.isProfessor())"
   ]
  },
  {
   "cell_type": "markdown",
   "id": "74245bfe-8dfc-44d1-9bfc-a29d6a3a9c7b",
   "metadata": {},
   "source": [
    "### 2. Multiple Inheritance : When one child class inherits two or more parent classes, it is called Multiple Inheritance."
   ]
  },
  {
   "cell_type": "code",
   "execution_count": 9,
   "id": "320a98d8-dc54-416a-a44b-959a0f5bccfd",
   "metadata": {},
   "outputs": [
    {
     "name": "stdout",
     "output_type": "stream",
     "text": [
      "8\n"
     ]
    }
   ],
   "source": [
    "class num_1:\n",
    "    num1 = 3\n",
    "class num_2:\n",
    "    num2 = 5\n",
    "class SubClass( num_1, num_2):\n",
    "    def addition(self):\n",
    "        return self.num1 + self.num2\n",
    "obj = SubClass()\n",
    "print(obj.addition())"
   ]
  },
  {
   "cell_type": "markdown",
   "id": "a2f4e91c-f427-42dc-b275-85fd391c6cd9",
   "metadata": {},
   "source": [
    "### 3. Multilevel Inheritance : When a class inherits a child class, it is called Multilevel Inheritance. "
   ]
  },
  {
   "cell_type": "code",
   "execution_count": 10,
   "id": "039a3360-7f4e-4313-87ba-959309825c4f",
   "metadata": {},
   "outputs": [
    {
     "name": "stdout",
     "output_type": "stream",
     "text": [
      "PythonGeeks\n"
     ]
    }
   ],
   "source": [
    "class Parent:\n",
    "    str1 = \"Python\"\n",
    "class Child(Parent):\n",
    "    str2 = \"Geeks\"\n",
    "class GrandChild(Child):\n",
    "    def get_str(self):\n",
    "        print(self.str1 + self.str2)\n",
    "person = GrandChild()\n",
    "person.get_str()"
   ]
  },
  {
   "cell_type": "markdown",
   "id": "bdd9c112-3585-4f62-a0fb-9897eea6f7d2",
   "metadata": {},
   "source": [
    "### 4. Hierarchical Inheritance : When multiple classes inherit the same class, it is called Hierarchical Inheritance."
   ]
  },
  {
   "cell_type": "code",
   "execution_count": 11,
   "id": "48bf9a4a-70fa-455d-b05c-7a5eaee0b33e",
   "metadata": {},
   "outputs": [
    {
     "name": "stdout",
     "output_type": "stream",
     "text": [
      "3 3 3\n"
     ]
    }
   ],
   "source": [
    "class SuperClass:\n",
    "    x = 3\n",
    "class SubClass1(SuperClass):\n",
    "    pass\n",
    "class SubClass2(SuperClass):\n",
    "    pass\n",
    "class SubClass3(SuperClass):\n",
    "    pass\n",
    "a = SubClass1()\n",
    "b = SubClass2()\n",
    "c = SubClass3()\n",
    "print(a.x, b.x, c.x)"
   ]
  },
  {
   "cell_type": "markdown",
   "id": "4b3e05aa-f6a8-41bc-9bd4-05fdb1a7ceaa",
   "metadata": {},
   "source": [
    "### 5. Hybrid Inheritance : A combination of more than one type of inheritance is called Hybrid Inheritance."
   ]
  },
  {
   "cell_type": "code",
   "execution_count": 12,
   "id": "e00e5977-f99b-43a4-88a1-68182f4d4de7",
   "metadata": {},
   "outputs": [
    {
     "name": "stdout",
     "output_type": "stream",
     "text": [
      "10\n"
     ]
    }
   ],
   "source": [
    "class X:\n",
    "    num = 10\n",
    "class A(X):\n",
    "    pass\n",
    "class B(A):\n",
    "    pass\n",
    "class C(A):\n",
    "    pass\n",
    "class D(B, C):\n",
    "    pass\n",
    "ob = D()\n",
    "print(D.num)"
   ]
  },
  {
   "cell_type": "code",
   "execution_count": null,
   "id": "2cbdd2cb-9363-4703-8696-33169270b0f8",
   "metadata": {},
   "outputs": [],
   "source": []
  }
 ],
 "metadata": {
  "kernelspec": {
   "display_name": "Python 3 (ipykernel)",
   "language": "python",
   "name": "python3"
  },
  "language_info": {
   "codemirror_mode": {
    "name": "ipython",
    "version": 3
   },
   "file_extension": ".py",
   "mimetype": "text/x-python",
   "name": "python",
   "nbconvert_exporter": "python",
   "pygments_lexer": "ipython3",
   "version": "3.10.8"
  }
 },
 "nbformat": 4,
 "nbformat_minor": 5
}
