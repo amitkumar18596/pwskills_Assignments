{
 "cells": [
  {
   "cell_type": "markdown",
   "id": "2a8849c8-4e71-4089-8347-5928de211fa0",
   "metadata": {},
   "source": [
    "## 1. Who developed Python programming language "
   ]
  },
  {
   "cell_type": "markdown",
   "id": "e4e284fe-eece-49d8-b76d-fc92f7dd5b52",
   "metadata": {},
   "source": [
    "Guido van Rossum"
   ]
  },
  {
   "cell_type": "markdown",
   "id": "98b61a57-09d8-4848-842f-e13443ed1768",
   "metadata": {},
   "source": [
    "## 2. Which type of programming does python support"
   ]
  },
  {
   "cell_type": "markdown",
   "id": "34f85958-a6b9-4661-8aad-ad9f6e540d21",
   "metadata": {},
   "source": [
    "Object-oriented programming and structured programming"
   ]
  },
  {
   "cell_type": "markdown",
   "id": "b3cc44e1-4f5b-4d7b-8b79-50c17766e11b",
   "metadata": {},
   "source": [
    "## 3. Is python case sensitive while dealing with identifiers"
   ]
  },
  {
   "cell_type": "markdown",
   "id": "35bb1362-47cc-4b75-971b-1ec24be99649",
   "metadata": {},
   "source": [
    "Python Identifiers are case-sensitive"
   ]
  },
  {
   "cell_type": "markdown",
   "id": "14fd8809-0bd7-43b5-a501-020c83cea185",
   "metadata": {},
   "source": [
    "## 4. What is the correct extension of python file"
   ]
  },
  {
   "cell_type": "markdown",
   "id": "f8488b0a-e6cd-4644-90f7-7a6cedaaa56b",
   "metadata": {},
   "source": [
    ".py"
   ]
  },
  {
   "cell_type": "markdown",
   "id": "57d7ff6c-519f-4f78-84f1-d13f2ee4be33",
   "metadata": {},
   "source": [
    "## 5. Is python code compiled or interpreted "
   ]
  },
  {
   "cell_type": "markdown",
   "id": "2b294cc8-332e-48fb-840d-6a26d0a5ec8b",
   "metadata": {},
   "source": [
    "Python is an interpreted language, which means the source code of a Python program is converted into bytecode that is then executed by the Python virtual machine."
   ]
  },
  {
   "cell_type": "markdown",
   "id": "d474f7fc-8882-4dd1-901c-6e8e3a0ae06b",
   "metadata": {},
   "source": [
    "## 6. Name a few blocks of code used to define in python language"
   ]
  },
  {
   "cell_type": "markdown",
   "id": "3502a316-f8aa-412e-940b-6eb217805041",
   "metadata": {},
   "source": [
    "a module, a function body, and a class definition."
   ]
  },
  {
   "cell_type": "markdown",
   "id": "d870f9a6-188f-4005-8378-7c9b6ad3149d",
   "metadata": {},
   "source": [
    "## 7. State a character used to give single line comment in python"
   ]
  },
  {
   "cell_type": "markdown",
   "id": "dc0d13a5-03af-4d71-afac-a25eea50483e",
   "metadata": {},
   "source": [
    "Hash(#)"
   ]
  },
  {
   "cell_type": "markdown",
   "id": "c8b6d8c5-33f6-4f7f-be76-90b660daabd1",
   "metadata": {},
   "source": [
    "## 8. Mention functions which can help us to find version of python that we are currently working on "
   ]
  },
  {
   "cell_type": "markdown",
   "id": "fdc1c694-924e-41df-bf40-22383cf6f1c6",
   "metadata": {},
   "source": [
    "Using sys. version method,\n",
    "Using python_version() function,\n",
    "Using Python -V command."
   ]
  },
  {
   "cell_type": "markdown",
   "id": "a643e6d4-e6fa-462b-be9c-79540406d8b3",
   "metadata": {},
   "source": [
    "## 9. Python supports the creation of anonymous functions at runtime, using a construct called ---------"
   ]
  },
  {
   "cell_type": "markdown",
   "id": "99d37999-34df-4853-a323-4eb638ad7625",
   "metadata": {},
   "source": [
    "lambda"
   ]
  },
  {
   "cell_type": "markdown",
   "id": "a251c778-5838-4ce3-a108-46f6d28d114d",
   "metadata": {},
   "source": [
    "## 10. What does pip stand for python "
   ]
  },
  {
   "cell_type": "markdown",
   "id": "71300dd8-50b4-4352-9a3c-531048fd9cba",
   "metadata": {},
   "source": [
    "pip Install Packages "
   ]
  },
  {
   "cell_type": "markdown",
   "id": "30114814-50ac-46f3-a792-0d9ba650aae7",
   "metadata": {},
   "source": [
    "## 11. Mention few built in functions in python"
   ]
  },
  {
   "cell_type": "markdown",
   "id": "8d5e7979-f232-4e75-b729-70a4277f59a9",
   "metadata": {},
   "source": [
    "print( ) function.<br>\n",
    "type( ) function.<br>\n",
    "input( ) function.<br>\n",
    "abs( ) function.<br>\n",
    "pow( ) function.<br>\n",
    "dir( ) function.<br>\n",
    "sorted( ) function.<br>\n",
    "max( ) function."
   ]
  },
  {
   "cell_type": "markdown",
   "id": "f94e7e9a-23a0-470a-bcb6-5de231f5a766",
   "metadata": {},
   "source": [
    "## 12. What is the maximum possible length of identifier in python"
   ]
  },
  {
   "cell_type": "markdown",
   "id": "edf08489-6582-409e-b10f-1912deaa9f30",
   "metadata": {},
   "source": [
    "79 characters"
   ]
  },
  {
   "cell_type": "markdown",
   "id": "98257158-bd19-43d5-a960-740b216d06a4",
   "metadata": {},
   "source": [
    "## 13. What are the benefits of using python"
   ]
  },
  {
   "cell_type": "markdown",
   "id": "003728fe-d774-4fa6-b232-0f348aff5ea6",
   "metadata": {},
   "source": [
    "Top Reasons to Learn Python <br>\n",
    "Data science.<br>\n",
    "Scientific and mathematical computing.<br>\n",
    "Web development.<br>\n",
    "Finance and trading.<br>\n",
    "System automation and administration.<br>\n",
    "Computer graphics.<br>\n",
    "Basic game development.<br>\n",
    "Security and penetration testing."
   ]
  },
  {
   "cell_type": "markdown",
   "id": "6da02129-6a08-4ed1-b43b-abe81c7396c3",
   "metadata": {},
   "source": [
    "## 14. How is memory managed in python"
   ]
  },
  {
   "cell_type": "markdown",
   "id": "2458f4e3-2acb-4492-89b6-7cc9a1ce428f",
   "metadata": {},
   "source": [
    "Memory management in Python involves a private heap containing all Python objects and data structures. The management of this private heap is ensured internally by the Python memory manager."
   ]
  },
  {
   "cell_type": "markdown",
   "id": "d0047fc5-25fe-44c2-a1fe-8db4497661ce",
   "metadata": {},
   "source": [
    "## 15. How to install python on windows and set path variables"
   ]
  },
  {
   "cell_type": "markdown",
   "id": "d5f8be43-10f5-46cf-9623-c735ec15eca1",
   "metadata": {},
   "source": [
    "Right-clicking This PC and going to Properties.<br>\n",
    "Clicking on the Advanced system settings in the menu on the left.<br>\n",
    "Clicking on the Environment Variables button o​n the bottom right.<br>\n",
    "In the System variables section, selecting the Path variable and clicking on Edit.<br>"
   ]
  },
  {
   "cell_type": "markdown",
   "id": "d6826af4-7077-4c80-bde3-0c53ac7dadd5",
   "metadata": {},
   "source": [
    "## 16. Is identation required in python"
   ]
  },
  {
   "cell_type": "markdown",
   "id": "df79b5f5-7c08-4a39-8b3c-623aad8ef9a5",
   "metadata": {},
   "source": [
    "Yes"
   ]
  },
  {
   "cell_type": "code",
   "execution_count": null,
   "id": "d504195e-9cd4-4afb-b1c6-0e91aa684fb8",
   "metadata": {},
   "outputs": [],
   "source": []
  }
 ],
 "metadata": {
  "kernelspec": {
   "display_name": "Python 3 (ipykernel)",
   "language": "python",
   "name": "python3"
  },
  "language_info": {
   "codemirror_mode": {
    "name": "ipython",
    "version": 3
   },
   "file_extension": ".py",
   "mimetype": "text/x-python",
   "name": "python",
   "nbconvert_exporter": "python",
   "pygments_lexer": "ipython3",
   "version": "3.10.8"
  }
 },
 "nbformat": 4,
 "nbformat_minor": 5
}
